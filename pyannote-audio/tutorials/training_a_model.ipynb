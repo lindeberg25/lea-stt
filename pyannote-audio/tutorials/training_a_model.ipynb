{
 "cells": [
  {
   "cell_type": "code",
   "execution_count": null,
   "metadata": {},
   "outputs": [],
   "source": [
    "# preparing notebook for visualization purposes\n",
    "# (only show outputs between t=180s and t=240s)\n",
    "from pyannote.core import notebook, Segment\n",
    "notebook.crop = Segment(210, 240)"
   ]
  },
  {
   "cell_type": "markdown",
   "metadata": {},
   "source": [
    "# Training, fine-tuning, and transfer learning with `pyannote.audio`\n",
    "\n",
    "In this tutorial, you will learn how to use `pyannote.audio` to \n",
    "\n",
    "* train a voice activity detection model from scratch, \n",
    "* fine-tune a pretrained speaker segmentation model,\n",
    "* perform transfer learning (from speaker segmentation to overlapped speech detection)\n",
    "\n",
    "## Data preparation\n",
    "\n",
    "This tutorial assumes that \n",
    "* the [AMI corpus](https://groups.inf.ed.ac.uk/ami/corpus/) has already been [setup for use with `pyannote`](https://github.com/pyannote/AMI-diarization-setup/tree/main/pyannote)\n",
    "* the `PYANNOTE_DATABASE_CONFIG` environment variable is set accordingly. \n",
    "\n",
    "See [`pyannote.database` documentation](https://github.com/pyannote/pyannote-database#pyannote-database) to learn how to prepare your own dataset for training with `pyannote.audio`."
   ]
  },
  {
   "cell_type": "code",
   "execution_count": null,
   "metadata": {},
   "outputs": [],
   "source": [
    "from pyannote.database import get_protocol\n",
    "ami = get_protocol('AMI.SpeakerDiarization.only_words')"
   ]
  },
  {
   "cell_type": "markdown",
   "metadata": {},
   "source": [
    "## Training a voice activity detection model from scratch"
   ]
  },
  {
   "cell_type": "markdown",
   "metadata": {},
   "source": [
    "Voice activity detection (VAD) is the task of detecting speech regions in a given audio stream or recording.\n",
    "\n",
    "We initialize a VAD *task* that describes how the model will be trained:\n",
    "\n",
    "* `ami` indicates that we will use files available in `ami.train()`.\n",
    "* `duration=2.` and `batch_size=128` indicates that the model will ingest batches of 128 two seconds long audio chunks."
   ]
  },
  {
   "cell_type": "code",
   "execution_count": null,
   "metadata": {},
   "outputs": [],
   "source": [
    "from pyannote.audio.tasks import VoiceActivityDetection\n",
    "vad_task = VoiceActivityDetection(ami, duration=2.0, batch_size=128)"
   ]
  },
  {
   "cell_type": "markdown",
   "metadata": {},
   "source": [
    "We initialize one *model* with the `PyanNet` architecture used [in that paper](https://arxiv.org/abs/2104.04045).  \n",
    "In particular, we increase the default stride of the initial `sincnet` feature extraction layer to `10`.\n",
    "\n",
    "The model is also provided with the task (`task=vad_task`) for which it is being trained:"
   ]
  },
  {
   "cell_type": "code",
   "execution_count": null,
   "metadata": {},
   "outputs": [],
   "source": [
    "from pyannote.audio.models.segmentation import PyanNet\n",
    "vad_model = PyanNet(task=vad_task, sincnet={'stride': 10})"
   ]
  },
  {
   "cell_type": "markdown",
   "metadata": {},
   "source": [
    "Now that everything is ready, let's train with `pytorch-ligthning`!"
   ]
  },
  {
   "cell_type": "code",
   "execution_count": null,
   "metadata": {},
   "outputs": [
    {
     "name": "stderr",
     "output_type": "stream",
     "text": [
      "GPU available: True, used: True\n",
      "TPU available: False, using: 0 TPU cores\n",
      "IPU available: False, using: 0 IPUs\n",
      "LOCAL_RANK: 0 - CUDA_VISIBLE_DEVICES: [0]\n",
      "\n",
      "  | Name              | Type       | Params | In sizes        | Out sizes                                        \n",
      "-----------------------------------------------------------------------------------------------------------------------\n",
      "0 | sincnet           | SincNet    | 42.6 K | [128, 1, 32000] | [128, 60, 115]                                   \n",
      "1 | lstm              | LSTM       | 589 K  | [128, 115, 60]  | [[128, 115, 256], [[4, 128, 128], [4, 128, 128]]]\n",
      "2 | linear            | ModuleList | 49.4 K | ?               | ?                                                \n",
      "3 | classifier        | Linear     | 129    | [128, 115, 128] | [128, 115, 1]                                    \n",
      "4 | activation        | Sigmoid    | 0      | [128, 115, 1]   | [128, 115, 1]                                    \n",
      "5 | validation_metric | AUROC      | 0      | ?               | ?                                                \n",
      "-----------------------------------------------------------------------------------------------------------------------\n",
      "681 K     Trainable params\n",
      "0         Non-trainable params\n",
      "681 K     Total params\n",
      "2.728     Total estimated model params size (MB)\n"
     ]
    },
    {
     "data": {
      "application/vnd.jupyter.widget-view+json": {
       "model_id": "",
       "version_major": 2,
       "version_minor": 0
      },
      "text/plain": [
       "HBox(children=(HTML(value='Validation sanity check'), FloatProgress(value=1.0, bar_style='info', layout=Layout…"
      ]
     },
     "metadata": {},
     "output_type": "display_data"
    },
    {
     "data": {
      "application/vnd.jupyter.widget-view+json": {
       "model_id": "0a76f04fd4ab4cad9dac09344b932e49",
       "version_major": 2,
       "version_minor": 0
      },
      "text/plain": [
       "HBox(children=(HTML(value='Training'), FloatProgress(value=1.0, bar_style='info', layout=Layout(flex='2'), max…"
      ]
     },
     "metadata": {},
     "output_type": "display_data"
    },
    {
     "data": {
      "application/vnd.jupyter.widget-view+json": {
       "model_id": "",
       "version_major": 2,
       "version_minor": 0
      },
      "text/plain": [
       "HBox(children=(HTML(value='Validating'), FloatProgress(value=1.0, bar_style='info', layout=Layout(flex='2'), m…"
      ]
     },
     "metadata": {},
     "output_type": "display_data"
    },
    {
     "name": "stdout",
     "output_type": "stream",
     "text": [
      "\n"
     ]
    }
   ],
   "source": [
    "import pytorch_lightning as pl\n",
    "trainer = pl.Trainer(gpus=1, max_epochs=1)\n",
    "trainer.fit(vad_model)"
   ]
  },
  {
   "cell_type": "markdown",
   "metadata": {},
   "source": [
    "For the purpose of this tutorial, the model is trained for only 1 epoch. One can obviously expect better performance by training longer and on more data.\n",
    "\n",
    "See [`pytorch-lightning`](https://www.pytorchlightning.ai/) documentation to learn more about the [`Trainer` API](https://pytorch-lightning.readthedocs.io/en/latest/common/trainer.html), in particular."
   ]
  },
  {
   "cell_type": "markdown",
   "metadata": {},
   "source": [
    "Once trained, the model can be applied to a test file:"
   ]
  },
  {
   "cell_type": "code",
   "execution_count": null,
   "metadata": {},
   "outputs": [],
   "source": [
    "test_file = next(ami.test())\n",
    "# here we use a test file provided by the protocol, but it could be any audio file\n",
    "# e.g. test_file = \"/path/to/test.wav\"."
   ]
  },
  {
   "cell_type": "markdown",
   "metadata": {},
   "source": [
    "Because the model was trained on 2s audio chunks and that test files are likely to be much longer than that, we wrap the `model` with an `Inference` instance: it will take care of sliding a 2s window over the whole file and aggregate the output of the model."
   ]
  },
  {
   "cell_type": "code",
   "execution_count": null,
   "metadata": {},
   "outputs": [
    {
     "data": {
      "image/png": "[encoded data removed]",
      "text/plain": [
       "<pyannote.core.feature.SlidingWindowFeature>"
      ]
     },
     "execution_count": null,
     "metadata": {},
     "output_type": "execute_result"
    }
   ],
   "source": [
    "from pyannote.audio import Inference\n",
    "vad = Inference(vad_model)\n",
    "\n",
    "vad_probability = vad(test_file)\n",
    "vad_probability"
   ]
  },
  {
   "cell_type": "markdown",
   "metadata": {},
   "source": [
    "Perfect voice activity detection output should look like that:"
   ]
  },
  {
   "cell_type": "code",
   "execution_count": null,
   "metadata": {},
   "outputs": [
    {
     "data": {
      "image/png": "[encoded data removed]",
      "text/plain": [
       "<Timeline(uri=IS1009a, segments=[<Segment(54.95, 60.85)>, <Segment(61.54, 80.83)>, <Segment(81.04, 82.05)>, <Segment(83.39, 86.94)>, <Segment(87.49, 88.59)>, <Segment(88.82, 89.69)>, <Segment(90.21, 90.52)>, <Segment(91.31, 107.4)>, <Segment(107.88, 118.17)>, <Segment(118.76, 119.05)>, <Segment(119.38, 119.91)>, <Segment(122.4, 132.39)>, <Segment(132.87, 146.77)>, <Segment(149.44, 162.32)>, <Segment(165.19, 166.99)>, <Segment(188.06, 188.34)>, <Segment(195.04, 195.27)>, <Segment(195.56, 195.82)>, <Segment(196.38, 202.4)>, <Segment(203.78, 218.2)>, <Segment(219.44, 222.12)>, <Segment(222.76, 227.27)>, <Segment(236.11, 238.38)>, <Segment(241.01, 242.5)>, <Segment(243.94, 245.45)>, <Segment(248.32, 251.04)>, <Segment(251.8, 252.7)>, <Segment(252.79, 254.69)>, <Segment(255.24, 257.74)>, <Segment(260.02, 272.52)>, <Segment(274.68, 275.95)>, <Segment(276.23, 279.86)>, <Segment(280.08, 285.51)>, <Segment(288.1, 297.75)>, <Segment(308.92, 310.65)>, <Segment(311.19, 318.45)>, <Segment(320.53, 327.5)>, <Segment(328.77, 333.36)>, <Segment(333.57, 335.49)>, <Segment(336.02, 336.43)>, <Segment(337.47, 339.63)>, <Segment(347.67, 349.78)>, <Segment(355.86, 364.82)>, <Segment(367.25, 375.93)>, <Segment(377.25, 386.09)>, <Segment(386.53, 387.02)>, <Segment(387.4, 393.64)>, <Segment(395.23, 398.51)>, <Segment(398.76, 399.29)>, <Segment(400.24, 400.93)>, <Segment(402.86, 412.67)>, <Segment(419.16, 427.58)>, <Segment(428.69, 434.99)>, <Segment(436.56, 449.23)>, <Segment(450.37, 495.68)>, <Segment(497.24, 502.27)>, <Segment(502.77, 503.46)>, <Segment(503.78, 506.79)>, <Segment(508.17, 551.13)>, <Segment(552.51, 565.64)>, <Segment(566.02, 581.45)>, <Segment(581.48, 637.63)>, <Segment(638.22, 641.25)>, <Segment(641.3, 661.77)>, <Segment(663.98, 665.07)>, <Segment(665.22, 683.95)>, <Segment(685.84, 703.98)>, <Segment(704.61, 711.13)>, <Segment(711.71, 715.68)>, <Segment(715.72, 744.62)>, <Segment(745.25, 750.08)>, <Segment(751.38, 758)>, <Segment(764.72, 775.95)>, <Segment(777.27, 787.09)>, <Segment(787.58, 793.95)>, <Segment(794.48, 794.68)>, <Segment(795.57, 795.88)>, <Segment(796.5, 797.81)>, <Segment(797.96, 803.68)>, <Segment(803.8, 805.72)>])>"
      ]
     },
     "execution_count": null,
     "metadata": {},
     "output_type": "execute_result"
    }
   ],
   "source": [
    "expected_output = test_file[\"annotation\"].get_timeline().support()\n",
    "expected_output"
   ]
  },
  {
   "cell_type": "markdown",
   "metadata": {},
   "source": [
    "## Fine-tuning a pretrained speaker segmentation model\n",
    "\n",
    "Speaker diarization is the task of partitioning a given audio stream of recording into according to the speaker identity.\n",
    "\n",
    "[`pyannote/segmentation`](https://hf.co/pyannote/segmentation) is a model that was pretrained to perform speaker diarization, but only locally, on 5s-long audio chunks. \n",
    "\n",
    "To load the speaker segmentation model, \n",
    "\n",
    "* accept the user conditions on [hf.co/pyannote/segmentation](https://hf.co/pyannote/segmentation).\n",
    "* login using `notebook_login` below"
   ]
  },
  {
   "cell_type": "code",
   "execution_count": null,
   "metadata": {},
   "outputs": [],
   "source": [
    "from huggingface_hub import notebook_login\n",
    "notebook_login()"
   ]
  },
  {
   "cell_type": "code",
   "execution_count": null,
   "metadata": {},
   "outputs": [],
   "source": [
    "from pyannote.audio import Model\n",
    "pretrained = Model.from_pretrained(\"pyannote/segmentation\", use_auth_token=True)"
   ]
  },
  {
   "cell_type": "markdown",
   "metadata": {},
   "source": [
    "Let's visualize how it performs on our test file:"
   ]
  },
  {
   "cell_type": "code",
   "execution_count": null,
   "metadata": {},
   "outputs": [
    {
     "data": {
      "image/png": "[encoded data removed]",
      "text/plain": [
       "<pyannote.core.feature.SlidingWindowFeature>"
      ]
     },
     "execution_count": null,
     "metadata": {},
     "output_type": "execute_result"
    }
   ],
   "source": [
    "spk_probability = Inference(pretrained, step=2.5)(test_file)\n",
    "spk_probability"
   ]
  },
  {
   "cell_type": "markdown",
   "metadata": {},
   "source": [
    "A perfect output would look like that:"
   ]
  },
  {
   "cell_type": "code",
   "execution_count": null,
   "metadata": {},
   "outputs": [
    {
     "data": {
      "image/png": "[encoded data removed]",
      "text/plain": [
       "<pyannote.core.feature.SlidingWindowFeature>"
      ]
     },
     "execution_count": null,
     "metadata": {},
     "output_type": "execute_result"
    }
   ],
   "source": [
    "test_file[\"annotation\"].discretize(notebook.crop, resolution=0.010)"
   ]
  },
  {
   "cell_type": "markdown",
   "metadata": {},
   "source": [
    "We are going to fine-tune this pretrained model on the AMI dataset:"
   ]
  },
  {
   "cell_type": "code",
   "execution_count": null,
   "metadata": {},
   "outputs": [],
   "source": [
    "from pyannote.audio.tasks import Segmentation\n",
    "seg_task = Segmentation(ami, duration=5.0, max_num_speakers=4)"
   ]
  },
  {
   "cell_type": "markdown",
   "metadata": {},
   "source": [
    "To check that fine-tuning was actually helpful, we need to evaluate the performance of the pretrained model, and compute the average local diarization error rate on a 5s window sliding over the whole test set. To do so, we need to create a helper function:"
   ]
  },
  {
   "cell_type": "code",
   "execution_count": null,
   "metadata": {},
   "outputs": [],
   "source": [
    "def test(model, protocol, subset=\"test\"):\n",
    "    from pyannote.audio.utils.signal import binarize\n",
    "    from pyannote.audio.utils.metric import DiscreteDiarizationErrorRate\n",
    "    from pyannote.audio.pipelines.utils import get_devices\n",
    "\n",
    "    (device,) = get_devices(needs=1)\n",
    "    metric = DiscreteDiarizationErrorRate()\n",
    "    files = list(getattr(protocol, subset)())\n",
    "\n",
    "    inference = Inference(model, device=device)\n",
    "\n",
    "    for file in files:\n",
    "        reference = file[\"annotation\"]\n",
    "        hypothesis = binarize(inference(file))\n",
    "        uem = file[\"annotated\"]\n",
    "        _ = metric(reference, hypothesis, uem=uem)\n",
    "        \n",
    "    return abs(metric)"
   ]
  },
  {
   "cell_type": "markdown",
   "metadata": {},
   "source": [
    "We can then evaluate the model and see its local DER:"
   ]
  },
  {
   "cell_type": "code",
   "execution_count": null,
   "metadata": {},
   "outputs": [
    {
     "name": "stdout",
     "output_type": "stream",
     "text": [
      "Local DER (pretrained) = 18.3%\n"
     ]
    }
   ],
   "source": [
    "der_pretrained = test(model=pretrained, protocol=ami, subset=\"test\")\n",
    "print(f\"Local DER (pretrained) = {der_pretrained * 100:.1f}%\")"
   ]
  },
  {
   "cell_type": "markdown",
   "metadata": {},
   "source": [
    "Next, we prepare the model for fine-tuning, simply by overriding its `task` attribute..."
   ]
  },
  {
   "cell_type": "code",
   "execution_count": null,
   "metadata": {},
   "outputs": [],
   "source": [
    "from copy import deepcopy\n",
    "finetuned = deepcopy(pretrained)\n",
    "finetuned.task = seg_task"
   ]
  },
  {
   "cell_type": "markdown",
   "metadata": {},
   "source": [
    "... and we train it (for just one epoch)"
   ]
  },
  {
   "cell_type": "code",
   "execution_count": null,
   "metadata": {},
   "outputs": [
    {
     "name": "stderr",
     "output_type": "stream",
     "text": [
      "GPU available: True, used: True\n",
      "TPU available: False, using: 0 TPU cores\n",
      "IPU available: False, using: 0 IPUs\n",
      "LOCAL_RANK: 0 - CUDA_VISIBLE_DEVICES: [0]\n",
      "\n",
      "  | Name              | Type       | Params | In sizes       | Out sizes                                     \n",
      "-------------------------------------------------------------------------------------------------------------------\n",
      "0 | sincnet           | SincNet    | 42.6 K | [32, 1, 80000] | [32, 60, 293]                                 \n",
      "1 | lstm              | LSTM       | 1.4 M  | [32, 293, 60]  | [[32, 293, 256], [[8, 32, 128], [8, 32, 128]]]\n",
      "2 | linear            | ModuleList | 49.4 K | ?              | ?                                             \n",
      "3 | classifier        | Linear     | 516    | [32, 293, 128] | [32, 293, 4]                                  \n",
      "4 | activation        | Sigmoid    | 0      | [32, 293, 4]   | [32, 293, 4]                                  \n",
      "5 | validation_metric | AUROC      | 0      | ?              | ?                                             \n",
      "-------------------------------------------------------------------------------------------------------------------\n",
      "1.5 M     Trainable params\n",
      "0         Non-trainable params\n",
      "1.5 M     Total params\n",
      "5.892     Total estimated model params size (MB)\n"
     ]
    },
    {
     "data": {
      "application/vnd.jupyter.widget-view+json": {
       "model_id": "",
       "version_major": 2,
       "version_minor": 0
      },
      "text/plain": [
       "HBox(children=(HTML(value='Validation sanity check'), FloatProgress(value=1.0, bar_style='info', layout=Layout…"
      ]
     },
     "metadata": {},
     "output_type": "display_data"
    },
    {
     "data": {
      "application/vnd.jupyter.widget-view+json": {
       "model_id": "634877439d6744d88223cfd1313e5fc1",
       "version_major": 2,
       "version_minor": 0
      },
      "text/plain": [
       "HBox(children=(HTML(value='Training'), FloatProgress(value=1.0, bar_style='info', layout=Layout(flex='2'), max…"
      ]
     },
     "metadata": {},
     "output_type": "display_data"
    },
    {
     "data": {
      "application/vnd.jupyter.widget-view+json": {
       "model_id": "",
       "version_major": 2,
       "version_minor": 0
      },
      "text/plain": [
       "HBox(children=(HTML(value='Validating'), FloatProgress(value=1.0, bar_style='info', layout=Layout(flex='2'), m…"
      ]
     },
     "metadata": {},
     "output_type": "display_data"
    },
    {
     "name": "stdout",
     "output_type": "stream",
     "text": [
      "\n"
     ]
    }
   ],
   "source": [
    "trainer = pl.Trainer(gpus=1, max_epochs=1)\n",
    "trainer.fit(finetuned)"
   ]
  },
  {
   "cell_type": "markdown",
   "metadata": {},
   "source": [
    "We now evaluate the performance of the fine-tuned model..."
   ]
  },
  {
   "cell_type": "code",
   "execution_count": null,
   "metadata": {},
   "outputs": [
    {
     "name": "stdout",
     "output_type": "stream",
     "text": [
      "Local DER (finetuned) = 17.5%\n"
     ]
    }
   ],
   "source": [
    "der_finetuned = test(model=finetuned, protocol=ami, subset=\"test\")\n",
    "print(f\"Local DER (finetuned) = {der_finetuned * 100:.1f}%\")"
   ]
  },
  {
   "cell_type": "markdown",
   "metadata": {},
   "source": [
    "... to confirm that it actually improved its performance on the AMI test set.\n",
    "\n",
    "\n",
    "## Transfer learning\n",
    "\n",
    "What if you are only interested in detecting overlapped speech regions? \n",
    "\n",
    "Looking at the output of the `pyannote/segmentation` model, it seems that it would be a good starting point for training such a dedicated model:"
   ]
  },
  {
   "cell_type": "code",
   "execution_count": null,
   "metadata": {},
   "outputs": [
    {
     "data": {
      "image/png": "[encoded data removed]",
      "text/plain": [
       "<pyannote.core.feature.SlidingWindowFeature>"
      ]
     },
     "execution_count": null,
     "metadata": {},
     "output_type": "execute_result"
    }
   ],
   "source": [
    "\n",
    "Inference('pyannote/segmentation', use_auth_token=True, step=2.5)(test_file)"
   ]
  },
  {
   "cell_type": "code",
   "execution_count": null,
   "metadata": {},
   "outputs": [
    {
     "data": {
      "image/png": "[encoded data removed]",
      "text/plain": [
       "<pyannote.core.annotation.Annotation>"
      ]
     },
     "execution_count": null,
     "metadata": {},
     "output_type": "execute_result"
    }
   ],
   "source": [
    "test_file[\"annotation\"]"
   ]
  },
  {
   "cell_type": "markdown",
   "metadata": {},
   "source": [
    "Let's update the model so that it specifically addresses overlapped speech detection.  \n",
    "This is achieved very simply by updating the `task` attribute..."
   ]
  },
  {
   "cell_type": "code",
   "execution_count": null,
   "metadata": {},
   "outputs": [],
   "source": [
    "from pyannote.audio.tasks import OverlappedSpeechDetection\n",
    "osd_task = OverlappedSpeechDetection(ami, duration=2.0)\n",
    "\n",
    "osd_model = Model.from_pretrained(\"pyannote/segmentation\", use_auth_token=True)\n",
    "osd_model.task = osd_task"
   ]
  },
  {
   "cell_type": "markdown",
   "metadata": {},
   "source": [
    "... optionally freeezing a bunch of layers..."
   ]
  },
  {
   "cell_type": "code",
   "execution_count": null,
   "metadata": {},
   "outputs": [
    {
     "data": {
      "text/plain": [
       "['sincnet',\n",
       " 'sincnet.wav_norm1d',\n",
       " 'sincnet.conv1d',\n",
       " 'sincnet.conv1d.0',\n",
       " 'sincnet.conv1d.0.filterbank',\n",
       " 'sincnet.conv1d.1',\n",
       " 'sincnet.conv1d.2',\n",
       " 'sincnet.pool1d',\n",
       " 'sincnet.pool1d.0',\n",
       " 'sincnet.pool1d.1',\n",
       " 'sincnet.pool1d.2',\n",
       " 'sincnet.norm1d',\n",
       " 'sincnet.norm1d.0',\n",
       " 'sincnet.norm1d.1',\n",
       " 'sincnet.norm1d.2',\n",
       " 'lstm']"
      ]
     },
     "execution_count": null,
     "metadata": {},
     "output_type": "execute_result"
    }
   ],
   "source": [
    "osd_model.freeze_up_to('lstm')"
   ]
  },
  {
   "cell_type": "markdown",
   "metadata": {},
   "source": [
    "... and training it:"
   ]
  },
  {
   "cell_type": "code",
   "execution_count": null,
   "metadata": {},
   "outputs": [
    {
     "name": "stderr",
     "output_type": "stream",
     "text": [
      "GPU available: True, used: True\n",
      "TPU available: False, using: 0 TPU cores\n",
      "IPU available: False, using: 0 IPUs\n",
      "LOCAL_RANK: 0 - CUDA_VISIBLE_DEVICES: [0]\n",
      "\n",
      "  | Name              | Type       | Params | In sizes       | Out sizes                                     \n",
      "-------------------------------------------------------------------------------------------------------------------\n",
      "0 | sincnet           | SincNet    | 42.6 K | [32, 1, 32000] | [32, 60, 115]                                 \n",
      "1 | lstm              | LSTM       | 1.4 M  | [32, 115, 60]  | [[32, 115, 256], [[8, 32, 128], [8, 32, 128]]]\n",
      "2 | linear            | ModuleList | 49.4 K | ?              | ?                                             \n",
      "3 | classifier        | Linear     | 129    | [32, 115, 128] | [32, 115, 1]                                  \n",
      "4 | activation        | Sigmoid    | 0      | [32, 115, 1]   | [32, 115, 1]                                  \n",
      "5 | validation_metric | AUROC      | 0      | ?              | ?                                             \n",
      "-------------------------------------------------------------------------------------------------------------------\n",
      "49.5 K    Trainable params\n",
      "1.4 M     Non-trainable params\n",
      "1.5 M     Total params\n",
      "5.890     Total estimated model params size (MB)\n"
     ]
    },
    {
     "data": {
      "application/vnd.jupyter.widget-view+json": {
       "model_id": "",
       "version_major": 2,
       "version_minor": 0
      },
      "text/plain": [
       "HBox(children=(HTML(value='Validation sanity check'), FloatProgress(value=1.0, bar_style='info', layout=Layout…"
      ]
     },
     "metadata": {},
     "output_type": "display_data"
    },
    {
     "data": {
      "application/vnd.jupyter.widget-view+json": {
       "model_id": "17ca908b800f4d34841bc2c7d5ccdff3",
       "version_major": 2,
       "version_minor": 0
      },
      "text/plain": [
       "HBox(children=(HTML(value='Training'), FloatProgress(value=1.0, bar_style='info', layout=Layout(flex='2'), max…"
      ]
     },
     "metadata": {},
     "output_type": "display_data"
    },
    {
     "data": {
      "application/vnd.jupyter.widget-view+json": {
       "model_id": "",
       "version_major": 2,
       "version_minor": 0
      },
      "text/plain": [
       "HBox(children=(HTML(value='Validating'), FloatProgress(value=1.0, bar_style='info', layout=Layout(flex='2'), m…"
      ]
     },
     "metadata": {},
     "output_type": "display_data"
    },
    {
     "name": "stdout",
     "output_type": "stream",
     "text": [
      "\n"
     ]
    }
   ],
   "source": [
    "trainer = pl.Trainer(gpus=1, max_epochs=1)\n",
    "trainer.fit(osd_model)"
   ]
  },
  {
   "cell_type": "markdown",
   "metadata": {},
   "source": [
    "Et voilà! A brand new overlapped speech detection model!"
   ]
  },
  {
   "cell_type": "code",
   "execution_count": null,
   "metadata": {},
   "outputs": [
    {
     "data": {
      "image/png": "[encoded data removed]",
      "text/plain": [
       "<pyannote.core.feature.SlidingWindowFeature>"
      ]
     },
     "execution_count": null,
     "metadata": {},
     "output_type": "execute_result"
    }
   ],
   "source": [
    "from pyannote.audio.utils.signal import binarize\n",
    "binarize(Inference(osd_model)(test_file))"
   ]
  },
  {
   "cell_type": "code",
   "execution_count": null,
   "metadata": {},
   "outputs": [
    {
     "data": {
      "image/png": "[encoded data removed]",
      "text/plain": [
       "<pyannote.core.annotation.Annotation>"
      ]
     },
     "execution_count": null,
     "metadata": {},
     "output_type": "execute_result"
    }
   ],
   "source": [
    "test_file[\"annotation\"]"
   ]
  },
  {
   "cell_type": "markdown",
   "metadata": {},
   "source": [
    "## Going further\n",
    "\n",
    "This tutorial only scratched the surface of the training API.\n",
    "\n",
    "Every task supports an `augmentation` parameter for training with data augmentation via [`torch-audiomentations`](https://github.com/asteroid-team/torch-audiomentations) library:\n",
    "\n",
    "```python\n",
    "from torch_audiomentations import AddBackgroundNoise\n",
    "augmentation = AddBackgroundNoise(\"/path/to/background/noise/directory\")\n",
    "vad_task = VoiceActivityDetection(ami, augmentation=augmentation)\n",
    "```\n",
    "\n",
    "We also benefit from all the nice things [`pytorch-lightning`](ttps://pytorch-lightning.readthedocs.io) has to offer (like multi-gpu training, for instance).\n",
    "\n",
    "```python\n",
    "trainer = Trainer(gpus=4, strategy='ddp')\n",
    "trainer.fit(model)\n",
    "```\n",
    "\n",
    "Default optimizer (`Adam` with default parameters) is automatically set up for you.  \n",
    "Customizing optimizer (and scheduler) requires overriding [`model.configure_optimizers`](https://pytorch-lightning.readthedocs.io/en/stable/api/pytorch_lightning.core.lightning.html#pytorch_lightning.core.lightning.LightningModule.configure_optimizers) method:\n",
    "\n",
    "```python\n",
    "from types import MethodType\n",
    "from torch.optim import SGD\n",
    "from torch.optim.lr_scheduler import ExponentialLR\n",
    "def configure_optimizers(self):\n",
    "    return {\"optimizer\": SGD(self.parameters()),\n",
    "            \"lr_scheduler\": ExponentialLR(optimizer, 0.9)}\n",
    "model.configure_optimizers = MethodType(configure_optimizers, model)\n",
    "trainer.fit(model)\n",
    "```"
   ]
  }
 ],
 "metadata": {
  "kernelspec": {
   "display_name": "Python 3 (ipykernel)",
   "language": "python",
   "name": "python3"
  }
 },
 "nbformat": 4,
 "nbformat_minor": 4
}
